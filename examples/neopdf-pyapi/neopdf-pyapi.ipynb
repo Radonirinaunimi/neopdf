{
 "cells": [
  {
   "cell_type": "markdown",
   "id": "c0385d9d-8dbf-481b-ba3c-655af02020f3",
   "metadata": {},
   "source": [
    "In the following example, we are going to showcase some of the main features of the `NeoPDF` Python API. The outline of the tutorial is as follow:\n",
    "\n",
    "1. [Standard PDF Manipulation](#section_1)\n",
    "2. [Convert LHAPDF into NeoPDF Format](#section_2)\n",
    "3. [Create a NeoPDF Grid](#section_3)\n",
    "4. [Combining LHAPDF Nuclear Sets into a Single NeoPDF Grid](#section_3)"
   ]
  },
  {
   "cell_type": "markdown",
   "id": "0e8b5d2c-a6fc-40d7-8b81-e86f23ad5ade",
   "metadata": {},
   "source": [
    "### 1. Standard PDF Manipulation <a class=\"anchor\" id=\"section_1\"></a>"
   ]
  },
  {
   "cell_type": "code",
   "execution_count": 1,
   "id": "48de9972-32e8-4b51-94bd-9bdfa67921d0",
   "metadata": {},
   "outputs": [],
   "source": [
    "import numpy as np\n",
    "\n",
    "from neopdf.pdf import PDF as NEOPDF"
   ]
  },
  {
   "cell_type": "code",
   "execution_count": 2,
   "id": "64e73016-5119-4c9d-9004-25702cdfaf05",
   "metadata": {},
   "outputs": [],
   "source": [
    "# To load NeoPDF sets, if available, append the name with `.neopdf.lz4`\n",
    "pdf = NEOPDF.mkPDF(\"NNPDF40_nnlo_as_01180\")"
   ]
  },
  {
   "cell_type": "code",
   "execution_count": 3,
   "id": "a596b193-277e-4d82-ab2a-381739a26692",
   "metadata": {},
   "outputs": [
    {
     "data": {
      "text/plain": [
       "dict_keys(['set_desc', 'set_index', 'num_members', 'x_min', 'x_max', 'q_min', 'q_max', 'flavors', 'format', 'alphas_q_values', 'alphas_vals', 'polarised', 'set_type', 'interpolator_type', 'error_type', 'hadron_pid', 'git_version', 'code_version', 'flavor_scheme', 'order_qcd', 'alphas_order_qcd', 'm_w', 'm_z', 'm_up', 'm_down', 'm_strange', 'm_charm', 'm_bottom', 'm_top'])"
      ]
     },
     "execution_count": 3,
     "metadata": {},
     "output_type": "execute_result"
    }
   ],
   "source": [
    "# Get the Metadata of the PDF set.\n",
    "metadata = pdf.metadata()\n",
    "metadata_dict = metadata.to_dict()\n",
    "metadata_dict.keys()"
   ]
  },
  {
   "cell_type": "code",
   "execution_count": 4,
   "id": "722085ca-46bf-4777-9074-84c4c9713040",
   "metadata": {},
   "outputs": [
    {
     "data": {
      "text/plain": [
       "'NNPDF4.0 NNLO global fit, alphas(MZ)=0.1180. mem=0 => average on replicas; mem=1-100 => PDF replicas'"
      ]
     },
     "execution_count": 4,
     "metadata": {},
     "output_type": "execute_result"
    }
   ],
   "source": [
    "metadata_dict[\"set_desc\"]"
   ]
  },
  {
   "cell_type": "code",
   "execution_count": 5,
   "id": "b2d777bf-b520-4631-aa1d-111fdfa03bf2",
   "metadata": {},
   "outputs": [
    {
     "data": {
      "text/plain": [
       "[0.33074891, 0.3176246, 0.30507081, 0.29305875]"
      ]
     },
     "execution_count": 5,
     "metadata": {},
     "output_type": "execute_result"
    }
   ],
   "source": [
    "metadata_dict[\"alphas_vals\"][:4]"
   ]
  },
  {
   "cell_type": "code",
   "execution_count": 6,
   "id": "f601e936-ed5d-45a3-b3c2-174f85549e9b",
   "metadata": {},
   "outputs": [
    {
     "data": {
      "text/plain": [
       "'PDF'"
      ]
     },
     "execution_count": 6,
     "metadata": {},
     "output_type": "execute_result"
    }
   ],
   "source": [
    "metadata_dict[\"set_type\"]"
   ]
  },
  {
   "cell_type": "markdown",
   "id": "91cb802d-78a7-4778-a06f-9e12d0d16bc2",
   "metadata": {},
   "source": [
    "We can also check the shape of the subgrids. In the following example, we are checking the shape of the first subgrid:"
   ]
  },
  {
   "cell_type": "code",
   "execution_count": 7,
   "id": "02222876-6053-4eae-b0ea-a83340891018",
   "metadata": {},
   "outputs": [
    {
     "data": {
      "text/plain": [
       "(1, 1, 11, 1, 196, 12)"
      ]
     },
     "execution_count": 7,
     "metadata": {},
     "output_type": "execute_result"
    }
   ],
   "source": [
    "pdf_subgrids = pdf.subgrids()\n",
    "pdf_subgrids[0].grid_shape()"
   ]
  },
  {
   "cell_type": "markdown",
   "id": "99dc2f9d-af1a-4c3b-a6ee-1d1d994e212b",
   "metadata": {},
   "source": [
    "The way to compute the value of the interpolated PDF $x f(x, Q^2)$ and the strong coupling $\\alpha_s$ is the same as in LHAPDF."
   ]
  },
  {
   "cell_type": "code",
   "execution_count": 8,
   "id": "34af3282-1d35-4c52-a2ac-7218510d2c82",
   "metadata": {},
   "outputs": [
    {
     "data": {
      "text/plain": [
       "0.2485925816007479"
      ]
     },
     "execution_count": 8,
     "metadata": {},
     "output_type": "execute_result"
    }
   ],
   "source": [
    "pdf.alphasQ2(q2=10)"
   ]
  },
  {
   "cell_type": "code",
   "execution_count": 9,
   "id": "b10b018b-9121-4ce0-821e-6315984ff174",
   "metadata": {},
   "outputs": [
    {
     "data": {
      "text/plain": [
       "111.20984759980468"
      ]
     },
     "execution_count": 9,
     "metadata": {},
     "output_type": "execute_result"
    }
   ],
   "source": [
    "pdf.xfxQ2(id=21, x=1e-5, q2=1e3)"
   ]
  },
  {
   "cell_type": "markdown",
   "id": "ac606b64-3c8b-4fb6-9c12-4832f39927de",
   "metadata": {},
   "source": [
    "One can also compute $x f(x, Q^2)$ for values of PID, $x$, and $Q^2$:"
   ]
  },
  {
   "cell_type": "code",
   "execution_count": 10,
   "id": "9581dd94-262e-4e67-8060-661c25d3465d",
   "metadata": {},
   "outputs": [
    {
     "data": {
      "text/plain": [
       "12.628715124538546"
      ]
     },
     "execution_count": 10,
     "metadata": {},
     "output_type": "execute_result"
    }
   ],
   "source": [
    "xs = np.geomspace(1e-9, 1.0, 50, endpoint=False)\n",
    "q2s = np.geomspace(1e2, 1e6, 50, endpoint=False)\n",
    "pids = [nf for nf in range(-4, 5) if nf != 0]\n",
    "\n",
    "result = pdf.xfxQ2s(pids=pids, xs=xs, q2s=q2s)\n",
    "result = result.reshape(len(pids), xs.size, q2s.size)\n",
    "result[0][0][0]"
   ]
  },
  {
   "cell_type": "markdown",
   "id": "ffbc90f5-ea88-4be1-8d7f-3f38d97ed15a",
   "metadata": {},
   "source": [
    "**NOTE:** To load all the PDF members at once, as in LHAPDF, one can simply do:\n",
    "\n",
    "```Python\n",
    "all_pdfs = NEOPDF.mkPDFs(\"NNPDF40_nnlo_as_01180\")\n",
    "```"
   ]
  },
  {
   "cell_type": "markdown",
   "id": "bd327cf6-65bd-4c29-bd8c-0aaa40d07341",
   "metadata": {},
   "source": [
    "### 2. Convert LHAPDF into NeoPDF Format <a class=\"anchor\" id=\"section_2\"></a>\n",
    "\n",
    "One can convert PDF sets in the LHAPDF format into the new format used by NeoPDF."
   ]
  },
  {
   "cell_type": "code",
   "execution_count": 11,
   "id": "f202b078-568d-4521-adce-ce13641ef692",
   "metadata": {},
   "outputs": [],
   "source": [
    "from neopdf.converter import convert_lhapdf"
   ]
  },
  {
   "cell_type": "code",
   "execution_count": 12,
   "id": "a5948b20-6ff4-4708-91d4-581b92c4d5fc",
   "metadata": {},
   "outputs": [],
   "source": [
    "# NeoPDF files should be appended with the suffix `neopdf.lz4`\n",
    "convert_lhapdf(\n",
    "    pdf_name=\"NNPDF40_nnlo_as_01180\", output_path=\"NNPDF40_nnlo_as_01180.neopdf.lz4\"\n",
    ")"
   ]
  },
  {
   "cell_type": "markdown",
   "id": "472858ec-1867-4788-9df3-2308e124f0f6",
   "metadata": {},
   "source": [
    "The above code will generate a file called `NNPDF40_nnlo_as_01180.neopdf.lz4` in the current directory. In order to load it, put it in the (default) `NEOPDF_DATA_PATH` path. See the `installation` section for more details. The set can be loaded in the same way as for standard LHAPDF sets."
   ]
  },
  {
   "cell_type": "code",
   "execution_count": 13,
   "id": "05787fe5-aa97-426b-b302-675a51ca4adc",
   "metadata": {},
   "outputs": [
    {
     "data": {
      "text/plain": [
       "111.20984759980468"
      ]
     },
     "execution_count": 13,
     "metadata": {},
     "output_type": "execute_result"
    }
   ],
   "source": [
    "neopdf = NEOPDF.mkPDF(\"NNPDF40_nnlo_as_01180.neopdf.lz4\")\n",
    "pdf.xfxQ2(id=21, x=1e-5, q2=1e3)"
   ]
  },
  {
   "cell_type": "markdown",
   "id": "05e0907a-728e-49eb-afde-0d48ee924e48",
   "metadata": {},
   "source": [
    "### 3. Create a NeoPDF Grid <a class=\"anchor\" id=\"section_3\"></a>\n",
    "\n",
    "The following section shows how one can create a NeoPDF PDF grid from a given predictions/fits. As mentioned in the `Design` section, a NeoPDF subgrid is a 5-dimensional array in $(A, \\alpha_s, x, Q^2)$. In turn, each PDF member can contain multiple subgrids."
   ]
  },
  {
   "cell_type": "code",
   "execution_count": 14,
   "id": "3c606842-7b36-4801-b293-b00b4cadfef0",
   "metadata": {},
   "outputs": [],
   "source": [
    "# Some imports\n",
    "from neopdf.writer import compress\n",
    "from neopdf.gridpdf import GridArray, SubGrid\n",
    "from neopdf.metadata import InterpolatorType, SetType, MetaData, PhysicsParameters"
   ]
  },
  {
   "cell_type": "code",
   "execution_count": 15,
   "id": "e1bfd9ad-5fe3-4639-9d91-ecc560d2246e",
   "metadata": {},
   "outputs": [],
   "source": [
    "# Construct the shared Metadata\n",
    "num_members = 10\n",
    "x_min = 1e-5\n",
    "x_max = 1.0\n",
    "q_min = 4.0\n",
    "q_max = 1e5\n",
    "flavors = [nf for nf in range(-4, 5)]\n",
    "num_alphas = 6\n",
    "alphas_vals = np.random.uniform(0.1, 0.2, num_alphas)\n",
    "alphas_qvalues = np.geomspace(q_min, q_max, num_alphas)\n",
    "\n",
    "# Define the Physical Parameters in the Metadata\n",
    "physparams_kwargs = {\n",
    "    \"flavor_scheme\": \"fixed\",\n",
    "    \"order_qcd\": 2,\n",
    "    \"alphas_order_qcd\": 2,\n",
    "    \"m_w\": 80.3520,\n",
    "    \"m_z\": 91.1876,\n",
    "    \"m_up\": 0.0,\n",
    "    \"m_down\": 0.0,\n",
    "    \"m_strange\": 0.0,\n",
    "    \"m_charm\": 1.51,\n",
    "    \"m_bottom\": 4.92,\n",
    "    \"m_top\": 172.5,\n",
    "}\n",
    "\n",
    "phys_params = PhysicsParameters(**physparams_kwargs)\n",
    "\n",
    "# Construct the PDF Metadata\n",
    "metadata_kwargs = {\n",
    "    \"set_desc\": \"Some Toy NeoPDF set\",\n",
    "    \"set_index\": 123456,\n",
    "    \"num_members\": num_members,\n",
    "    \"x_min\": x_min,\n",
    "    \"x_max\": x_max,\n",
    "    \"q_min\": q_min,\n",
    "    \"q_max\": q_max,\n",
    "    \"flavors\": flavors,\n",
    "    \"format\": \"neopdf\",\n",
    "    \"alphas_q_values\": alphas_qvalues,\n",
    "    \"alphas_vals\": alphas_vals,\n",
    "    \"polarised\": False,\n",
    "    \"set_type\": SetType.SpaceLike,\n",
    "    \"interpolator_type\": InterpolatorType.LogBicubic,\n",
    "    \"phys_params\": phys_params,\n",
    "}\n",
    "\n",
    "metadata = MetaData(**metadata_kwargs)"
   ]
  },
  {
   "cell_type": "code",
   "execution_count": 16,
   "id": "6c2094e7-8166-4ccd-8ac3-590850775bcf",
   "metadata": {},
   "outputs": [],
   "source": [
    "# Construct the PDF Grid:\n",
    "#   - A subrid is represented by the `SubGrid` object\n",
    "#   - A member is represented by the `GridArray` object\n",
    "\n",
    "nucleons = [1]  # Proton Only\n",
    "alphas_mZ = [0.118]  # Only one value\n",
    "kts = [0.0]  # No dependence on the Transverse Momentum\n",
    "grid_members = []\n",
    "\n",
    "x_values = np.geomspace(x_min, x_max, 50)\n",
    "# Subdivide the Q2 range into subgrids\n",
    "q_mid = int(q_max / 3)\n",
    "q2_sub1 = np.geomspace(q_min * q_min, q_mid * q_mid, 25)\n",
    "q2_sub2 = np.geomspace(q_mid * q_mid, q_max * q_max, 25)\n",
    "q2_values = [q2_sub1, q2_sub2]\n",
    "\n",
    "for _ in range(num_members):\n",
    "    sub_grids = []\n",
    "    for q2_vals in q2_values:\n",
    "        grid_shape = (\n",
    "            len(nucleons),\n",
    "            len(alphas_mZ),\n",
    "            len(flavors),\n",
    "            len(kts),\n",
    "            x_values.size,\n",
    "            q2_vals.size,\n",
    "        )\n",
    "        grid = np.random.uniform(0, 1, grid_shape)\n",
    "\n",
    "        sub_grid = SubGrid(\n",
    "            xs=x_values,\n",
    "            q2s=q2_vals,\n",
    "            kts=kts,\n",
    "            nucleons=nucleons,\n",
    "            alphas=alphas_mZ,\n",
    "            grid=grid,\n",
    "        )\n",
    "        sub_grids.append(sub_grid)\n",
    "\n",
    "    grid_member = GridArray(pids=flavors, subgrids=sub_grids)\n",
    "    grid_members.append(grid_member)\n",
    "\n",
    "# Write the compressed PDF set into disk\n",
    "compress(grids=grid_members, metadata=metadata, path=\"TOY_NEOPDF.neopdf.lz4\")"
   ]
  },
  {
   "cell_type": "markdown",
   "id": "5184c621-bd73-4e8c-adff-c0e4183117c9",
   "metadata": {},
   "source": [
    "This will generate a file called `TOY_NEOPDF.neopdf.lz4` in the current directory that one can then move into the (default) `NEOPDF_DATA_PATH`. Alternatively, one can pass directly the path to where the the grid will be written in `compress` via the `path` argument."
   ]
  },
  {
   "cell_type": "markdown",
   "id": "d00d2e50-43f2-41a9-8d57-6dc46671e4cb",
   "metadata": {},
   "source": [
    "### 4. Combining LHAPDF Nuclear Sets into a Single NeoPDF Grid <a class=\"anchor\" id=\"section_4\"></a>\n",
    "\n",
    "`NeoPDF` can combine multiple LHAPDF sets along a given parameter into a single `NeoPDF` grid such that the parameter-dependence is intrinsically included. In the following example, we are going to combine the nuclear $A$ dependence, however combining multiple $\\alpha_s$ variations also works the same.\n",
    "\n",
    "**NOTE:** As a default, the bi-cubic log-interpolation is used, and because of how such an interpolation works, the cardinal of the $\\left\\{A\\right\\}$ set must at least be four (04). "
   ]
  },
  {
   "cell_type": "code",
   "execution_count": 17,
   "id": "116ebc63-cdbc-4960-a03b-56323de830c0",
   "metadata": {},
   "outputs": [],
   "source": [
    "from neopdf.converter import combine_lhapdf_npdfs"
   ]
  },
  {
   "cell_type": "code",
   "execution_count": 18,
   "id": "86e3c2d8-938b-47e7-ac5f-714becb55d5a",
   "metadata": {},
   "outputs": [],
   "source": [
    "# List of nuclear PDFs to be combined - at least 4\n",
    "npdfs_list = [\n",
    "    \"nNNPDF30_nlo_as_0118_p\",\n",
    "    \"nNNPDF30_nlo_as_0118_A2_Z1\",\n",
    "    \"nNNPDF30_nlo_as_0118_A4_Z2\",\n",
    "    \"nNNPDF30_nlo_as_0118_A6_Z3\",\n",
    "    \"nNNPDF30_nlo_as_0118_A9_Z4\",\n",
    "]\n",
    "\n",
    "combine_lhapdf_npdfs(\n",
    "    pdf_names=npdfs_list, output_path=\"nNNPDF30_nlo_as_0118_A1_A9.neopdf.lz4\"\n",
    ")"
   ]
  },
  {
   "cell_type": "markdown",
   "id": "37d6a24d-fcd8-4f63-8f3a-d43d9dcef99f",
   "metadata": {},
   "source": [
    "We can now load the combined nuclear PDF sets and check that we can now interpolate the $A$-dependence using the `xfxQ2_ND` function."
   ]
  },
  {
   "cell_type": "code",
   "execution_count": 19,
   "id": "73836cba-3e16-4916-b0bd-ef4eb1fca95c",
   "metadata": {},
   "outputs": [],
   "source": [
    "nuclear_neopdfs = NEOPDF.mkPDF(\"nNNPDF30_nlo_as_0118_A1_A9.neopdf.lz4\")"
   ]
  },
  {
   "cell_type": "code",
   "execution_count": 20,
   "id": "a43dd711-b3fe-4d3e-bb52-30c22be2b339",
   "metadata": {},
   "outputs": [
    {
     "data": {
      "text/plain": [
       "134.7438112942475"
      ]
     },
     "execution_count": 20,
     "metadata": {},
     "output_type": "execute_result"
    }
   ],
   "source": [
    "A_value = 5  # No nPDF available\n",
    "nuclear_neopdfs.xfxQ2_ND(21, [A_value, 1e-5, 1e3])"
   ]
  },
  {
   "cell_type": "markdown",
   "id": "b4068cc7-27c8-4f65-a217-b3f074e2e553",
   "metadata": {},
   "source": [
    "If instead of the $A$ dependence the grid containts the $\\alpha_s$ dependence, then one can just replace `A_value` with `alphas_value`. If the grid has a dependence on both, then syntax becomes:\n",
    "\n",
    "```Python\n",
    "A_value = 5\n",
    "alphas_value = 0.117\n",
    "nuclear_neopdfs.xfxQ2_ND(21, [A_value, alphas_value, 1e-5, 1e3]) # Note the Order\n",
    "```"
   ]
  }
 ],
 "metadata": {
  "kernelspec": {
   "display_name": "nnpdf",
   "language": "python",
   "name": "nnpdf"
  },
  "language_info": {
   "codemirror_mode": {
    "name": "ipython",
    "version": 3
   },
   "file_extension": ".py",
   "mimetype": "text/x-python",
   "name": "python",
   "nbconvert_exporter": "python",
   "pygments_lexer": "ipython3",
   "version": "3.11.5"
  }
 },
 "nbformat": 4,
 "nbformat_minor": 5
}
